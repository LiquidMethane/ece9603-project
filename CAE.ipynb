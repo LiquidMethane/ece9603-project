{
 "cells": [
  {
   "cell_type": "code",
   "execution_count": 1,
   "id": "86829d19-d8c6-4007-8247-9e355b97d331",
   "metadata": {},
   "outputs": [],
   "source": [
    "import pandas as pd\n",
    "import numpy as np"
   ]
  },
  {
   "cell_type": "code",
   "execution_count": 2,
   "id": "10b9e09b-d561-4636-b16f-aa044d9646c4",
   "metadata": {},
   "outputs": [],
   "source": [
    "data = pd.read_csv('features.csv')"
   ]
  },
  {
   "cell_type": "code",
   "execution_count": null,
   "id": "af6a4983-0350-40e7-bd6a-87cfb6290cac",
   "metadata": {},
   "outputs": [],
   "source": []
  },
  {
   "cell_type": "code",
   "execution_count": null,
   "id": "0147e2a9-b2ab-4459-bf91-ab6355a65259",
   "metadata": {},
   "outputs": [],
   "source": []
  },
  {
   "cell_type": "code",
   "execution_count": null,
   "id": "50ba5c8a-8c9c-4482-82c4-45031aa21a9f",
   "metadata": {},
   "outputs": [],
   "source": []
  },
  {
   "cell_type": "code",
   "execution_count": null,
   "id": "e6d3f45a-2131-4db4-ae56-eb052b98d818",
   "metadata": {},
   "outputs": [],
   "source": []
  },
  {
   "cell_type": "code",
   "execution_count": 3,
   "id": "d4417521-1473-440a-b7f9-210414e5697d",
   "metadata": {},
   "outputs": [],
   "source": [
    "import torch"
   ]
  },
  {
   "cell_type": "code",
   "execution_count": null,
   "id": "b799cc1c-29fc-4dd7-9e6c-a5816b0fd6e0",
   "metadata": {},
   "outputs": [],
   "source": [
    "class CAE(torch.nn.Module):\n",
    "    def __init__(self):\n",
    "        super(CAE, self).__init()\n",
    "        self.encoder = torch.nn.Sequential( # input 37x37x1\n",
    "            \n",
    "            # conv1\n",
    "            torch.nn.Conv2d(in_channels=1, out_channels=16, kernel_size=3, stride=2), # (37-3)/2+1 = 18\n",
    "            torch.nn.BatchNorm2d(num_features=16),\n",
    "            torch.nn.ReLU(),\n",
    "            torch.nn.MaxPool2d(kernel_size=2), # 18/2=9 => output is 9x9x16\n",
    "            \n",
    "            # conv2\n",
    "            torch.nn.Conv2d(in_channels=16, out_channels=32, kernel_size=3, stride=2), # (9-3)/2+1 = 4            \n",
    "            torch.nn.BatchNorm2d(32),\n",
    "            torch.nn.ReLU(),\n",
    "            torch.nn.MaxPool2d(2, 2), # 4/2 = 2 => output is 2x2x32 = 128\n",
    "            \n",
    "        )\n",
    "        \n",
    "        # dense layers\n",
    "        self.dense1 = torch.nn.Linear(128, 64)\n",
    "        self.dense2 = torch.nn.Linear(64, 128)\n",
    "        \n",
    "        self.decoder = torch.nn.Sequential(\n",
    "            \n",
    "            # convt1\n",
    "            torch.nn.Upsample(scale_factor=2, mode='bilinear')\n",
    "            torch.nn.ConvTranspose2d(in_channels=32, out_channels=16, kernel_size=3, stride=2),\n",
    "            torch.nn.BatchNorm2d(16),\n",
    "            torch.nn.ReLU(),\n",
    "            \n",
    "            # convt2\n",
    "            torch.nn.Upsample(scale_factor=2, mode='bilinear')\n",
    "            torch.nn.convTranspose2d(in_channels=16, out_channels=1, kernel_size=3, stride=2),\n",
    "            torch.nn.BatchNorm2d(1),\n",
    "            torch.nn.ReLU()\n",
    "        \n",
    "        )\n",
    "        \n",
    "        def forward(self, x):\n",
    "            x = self.encoder(x)\n",
    "            x = torch.nn.functional.relu(self.dense1(x.view(x.size(0), -1))) # flatten tensor\n",
    "            x = torch.nn.functional.relu(self.dense2(x))\n",
    "            x = self.decoder(x.view(x.size(0), 32, 2, 2)) # reshape tensor to 32x2x2"
   ]
  }
 ],
 "metadata": {
  "kernelspec": {
   "display_name": "Python 3 (ipykernel)",
   "language": "python",
   "name": "python3"
  },
  "language_info": {
   "codemirror_mode": {
    "name": "ipython",
    "version": 3
   },
   "file_extension": ".py",
   "mimetype": "text/x-python",
   "name": "python",
   "nbconvert_exporter": "python",
   "pygments_lexer": "ipython3",
   "version": "3.8.12"
  }
 },
 "nbformat": 4,
 "nbformat_minor": 5
}
