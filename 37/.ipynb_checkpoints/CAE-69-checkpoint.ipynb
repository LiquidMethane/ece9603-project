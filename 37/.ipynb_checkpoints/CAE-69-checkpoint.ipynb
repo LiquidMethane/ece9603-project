{
 "cells": [
  {
   "cell_type": "code",
   "execution_count": 1,
   "id": "86829d19-d8c6-4007-8247-9e355b97d331",
   "metadata": {},
   "outputs": [],
   "source": [
    "import pandas as pd\n",
    "import numpy as np\n",
    "import torch\n",
    "import torch.nn as nn\n",
    "\n",
    "from tqdm import tqdm\n",
    "from IPython.display import clear_output\n",
    "import matplotlib.pyplot as plt"
   ]
  },
  {
   "cell_type": "markdown",
   "id": "21858d38-8660-445f-bf96-860c45082910",
   "metadata": {},
   "source": [
    "### Modify the parameters before running\n",
    "---\n"
   ]
  },
  {
   "cell_type": "code",
   "execution_count": 2,
   "id": "a7abf0e7-3db6-4822-af85-6036db5ae862",
   "metadata": {},
   "outputs": [],
   "source": [
    "\n",
    "normal_feature_path = './data/features_scaled.csv'\n",
    "anomaly_feature_path = './data/features_anom_scaled.csv'\n",
    "normal_testing_set_path = './data/norm_test.csv'\n",
    "window_size = 37\n",
    "model_path = './cae-37.pt'\n"
   ]
  },
  {
   "cell_type": "markdown",
   "id": "33963959-72fe-4817-bb39-362639fd44c6",
   "metadata": {},
   "source": [
    "---"
   ]
  },
  {
   "cell_type": "code",
   "execution_count": null,
   "id": "f8750354-2876-44de-aa25-0cc0211e86a8",
   "metadata": {},
   "outputs": [],
   "source": []
  },
  {
   "cell_type": "code",
   "execution_count": 3,
   "id": "80697f9a-1b4a-4e5c-b7e5-59cec3363f50",
   "metadata": {},
   "outputs": [],
   "source": [
    "data_norm = np.genfromtxt(normal_feature_path, delimiter=',', dtype=np.float32)\n",
    "l = data_norm.shape[0]"
   ]
  },
  {
   "cell_type": "code",
   "execution_count": 5,
   "id": "5a55a97b-ea22-4de1-b2f8-c786a701a142",
   "metadata": {},
   "outputs": [],
   "source": [
    "# shuffle data and split into norm_train, norm_test\n",
    "np.random.shuffle(data_norm)\n",
    "\n",
    "data_norm_train = data_norm[:int(l*0.8)]\n",
    "data_norm_test = data_norm[int(l*0.8)+1:]"
   ]
  },
  {
   "cell_type": "code",
   "execution_count": 6,
   "id": "f5def4e8-99dd-4170-af2e-6016db99587f",
   "metadata": {},
   "outputs": [],
   "source": [
    "# save norm_test for later testing   \n",
    "with open(normal_testing_set_path, 'ab') as f:\n",
    "    np.savetxt(f, data_norm_test, delimiter=',', newline='\\n')\n"
   ]
  },
  {
   "cell_type": "code",
   "execution_count": 17,
   "id": "b799cc1c-29fc-4dd7-9e6c-a5816b0fd6e0",
   "metadata": {},
   "outputs": [],
   "source": [
    "class CAE(nn.Module):\n",
    "    def __init__(self):\n",
    "        super(CAE, self).__init__()\n",
    "        self.encoder = nn.Sequential( # input 37x37x1\n",
    "            \n",
    "            # conv1\n",
    "            nn.Conv2d(in_channels=1, out_channels=16, kernel_size=3, stride=2), # (37-3)/2+1 = 18\n",
    "            nn.BatchNorm2d(num_features=16),\n",
    "            nn.ReLU(),\n",
    "            nn.MaxPool2d(kernel_size=2), # 18/2=9 => output is 9x9x16\n",
    "            \n",
    "            # conv2\n",
    "            nn.Conv2d(in_channels=16, out_channels=32, kernel_size=3, stride=2), # (9-3)/2+1 = 4            \n",
    "            nn.BatchNorm2d(32),\n",
    "            nn.ReLU(),\n",
    "            nn.MaxPool2d(2, 2), # 4/2 = 2 => output is 2x2x32 = 128\n",
    "            \n",
    "        )\n",
    "        \n",
    "        # dense layers\n",
    "        self.dense1 = nn.Linear(128, 64)\n",
    "        self.dense2 = nn.Linear(64, 128)\n",
    "        \n",
    "        self.decoder = nn.Sequential(\n",
    "            \n",
    "            # convt1\n",
    "            nn.Upsample(scale_factor=2, mode='bilinear', align_corners=False),\n",
    "            nn.ConvTranspose2d(in_channels=32, out_channels=16, kernel_size=3, stride=2),\n",
    "            nn.BatchNorm2d(16),\n",
    "            nn.ReLU(),\n",
    "            \n",
    "            # convt2\n",
    "            nn.Upsample(scale_factor=2, mode='bilinear', align_corners=False),\n",
    "            nn.ConvTranspose2d(in_channels=16, out_channels=1, kernel_size=3, stride=2),\n",
    "            nn.BatchNorm2d(1),\n",
    "            nn.ReLU()\n",
    "        \n",
    "        )\n",
    "        \n",
    "    def forward(self, x):\n",
    "        x = self.encoder(x)\n",
    "        x = torch.nn.functional.relu(self.dense1(x.view(x.size(0), -1))) # flatten tensor\n",
    "        x = torch.nn.functional.relu(self.dense2(x))\n",
    "        x = self.decoder(x.view(x.size(0), 32, 2, 2)) # reshape tensor to 32x2x2\n",
    "        return x"
   ]
  },
  {
   "cell_type": "code",
   "execution_count": null,
   "id": "af6a4983-0350-40e7-bd6a-87cfb6290cac",
   "metadata": {},
   "outputs": [],
   "source": []
  },
  {
   "cell_type": "code",
   "execution_count": 18,
   "id": "0147e2a9-b2ab-4459-bf91-ab6355a65259",
   "metadata": {},
   "outputs": [],
   "source": [
    "device = torch.device('cuda' if torch.cuda.is_available() else 'cpu')\n",
    "\n",
    "batch_limit = 512\n",
    "batch_size = 32\n",
    "epoch = 500\n",
    "cae = CAE().to(device)\n",
    "optimizer = torch.optim.Adam(cae.parameters(), lr=1e-3)\n",
    "criterion = nn.MSELoss()\n",
    "loss_list = []\n",
    "val_list = []"
   ]
  },
  {
   "cell_type": "code",
   "execution_count": 19,
   "id": "50ba5c8a-8c9c-4482-82c4-45031aa21a9f",
   "metadata": {},
   "outputs": [
    {
     "data": {
      "image/png": "[encoded data removed]",
      "text/plain": [
       "<Figure size 720x480 with 1 Axes>"
      ]
     },
     "metadata": {
      "needs_background": "light"
     },
     "output_type": "display_data"
    },
    {
     "name": "stderr",
     "output_type": "stream",
     "text": [
      "100%|██████████████████████████████████████████████████| 500/500 [36:30<00:00,  4.38s/it]\n"
     ]
    }
   ],
   "source": [
    "for e in tqdm(range(epoch)):\n",
    "    epoch_loss = 0\n",
    "\n",
    "    for idx in range(batch_limit):\n",
    "        optimizer.zero_grad()\n",
    "        \n",
    "        indices = np.random.randint(low=0, high=37816, size=batch_size)\n",
    "        train_tensor = torch.from_numpy(np.array([data_norm_train[i] for i in indices]).reshape(batch_size, 1, window_size, 37)).to(device)\n",
    "        recon_tensor = cae(train_tensor)\n",
    "        \n",
    "        loss = criterion(recon_tensor, train_tensor)\n",
    "        loss.backward()\n",
    "        optimizer.step()\n",
    "        epoch_loss += loss.item()\n",
    "        print(f\"Batch loss ({idx+1}/{batch_limit}): {loss.item()}\", end='\\r')\n",
    "        \n",
    "    with torch.no_grad():\n",
    "        loss_list.append(epoch_loss/batch_limit)\n",
    "        \n",
    "        clear_output(wait=True)\n",
    "        fig, ax1 = plt.subplots(dpi=120)\n",
    "        ax1.plot(np.array(loss_list), label='Normal Window Loss', color='red')\n",
    "        ax1.legend(loc='upper right')\n",
    "        ax1.set_ylabel('Reconstruction MSE Loss')\n",
    "        ax1.set_xlabel('Epoch')\n",
    "        plt.show()"
   ]
  },
  {
   "cell_type": "code",
   "execution_count": 20,
   "id": "ee61e3dc-b575-47e8-8c85-4d5b27d35008",
   "metadata": {},
   "outputs": [],
   "source": [
    "torch.save(cae.state_dict(), model_path)"
   ]
  },
  {
   "cell_type": "code",
   "execution_count": null,
   "id": "779b13f6-0d3c-4139-bb12-9604311316a5",
   "metadata": {},
   "outputs": [],
   "source": []
  }
 ],
 "metadata": {
  "kernelspec": {
   "display_name": "Python 3 (ipykernel)",
   "language": "python",
   "name": "python3"
  },
  "language_info": {
   "codemirror_mode": {
    "name": "ipython",
    "version": 3
   },
   "file_extension": ".py",
   "mimetype": "text/x-python",
   "name": "python",
   "nbconvert_exporter": "python",
   "pygments_lexer": "ipython3",
   "version": "3.8.12"
  }
 },
 "nbformat": 4,
 "nbformat_minor": 5
}
