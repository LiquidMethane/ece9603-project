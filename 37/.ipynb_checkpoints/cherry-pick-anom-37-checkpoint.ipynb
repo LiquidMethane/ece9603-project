{
 "cells": [
  {
   "cell_type": "code",
   "execution_count": 1,
   "id": "f494b1ef-fc5c-4d17-9b0e-789ce871fa5f",
   "metadata": {},
   "outputs": [],
   "source": [
    "import pandas as pd\n",
    "import numpy as np\n",
    "import matplotlib.pyplot as plt\n",
    "import seaborn as sns\n",
    "from tqdm import tqdm"
   ]
  },
  {
   "cell_type": "markdown",
   "id": "c7a91ef7-42bd-4271-9fdf-6a03a42393e2",
   "metadata": {},
   "source": [
    "### Modify the parameters before running\n",
    "---\n"
   ]
  },
  {
   "cell_type": "code",
   "execution_count": 2,
   "id": "c5e858c6-ef2e-4f3f-ba02-43c9d430bab6",
   "metadata": {},
   "outputs": [],
   "source": [
    "original_data_path = './../sensor_scaled_cleaned.csv'\n",
    "cherrypick_test_path = './data/features_broken_scaled.csv'\n",
    "window_size = 37\n",
    "flattened_size = 1369"
   ]
  },
  {
   "cell_type": "markdown",
   "id": "e6799569-97d9-441a-861c-1d32b7f29f12",
   "metadata": {},
   "source": [
    "---"
   ]
  },
  {
   "cell_type": "code",
   "execution_count": 3,
   "id": "e6777a1e-8378-4bef-9833-a659fa411afb",
   "metadata": {},
   "outputs": [],
   "source": [
    "data_final = pd.read_csv(original_data_path, index_col='index')"
   ]
  },
  {
   "cell_type": "code",
   "execution_count": 4,
   "id": "b68b780c-348c-43ea-a3de-e3895cdd7701",
   "metadata": {},
   "outputs": [],
   "source": [
    "broken_idx = data_final[data_final['machine_status'] == 'BROKEN'].index"
   ]
  },
  {
   "cell_type": "code",
   "execution_count": 5,
   "id": "11b9ef96-5bb3-4ac1-a06a-e70478455c12",
   "metadata": {},
   "outputs": [],
   "source": [
    "# supplemental function to check if indices in a window are consecutive\n",
    "def checkConsecutive(seq):\n",
    "    n = len(seq) - 1\n",
    "    return (sum(np.diff(seq) == 1) >= n)"
   ]
  },
  {
   "cell_type": "code",
   "execution_count": 6,
   "id": "cbd4c434-c7db-4280-bb65-1ce7e2737f50",
   "metadata": {},
   "outputs": [],
   "source": [
    "anom_sample = np.empty((0, flattened_size))\n",
    "anom_sample_index = []"
   ]
  },
  {
   "cell_type": "code",
   "execution_count": 7,
   "id": "df2806f5-6e77-440c-82bc-ef14e08bef53",
   "metadata": {},
   "outputs": [],
   "source": [
    "def construct_features_anom(num, broken):\n",
    "    global anom_sample\n",
    "    global broken_idx\n",
    "    \n",
    "    temp_anom = data_final.loc[lambda df: df.index >= broken - window_size + 1, :]\n",
    "    \n",
    "    for idx in range(0, window_size):\n",
    "        temp = temp_anom.iloc[idx: idx + window_size]\n",
    "        if checkConsecutive(temp.index.to_numpy()):\n",
    "            if temp['machine_status'].str.contains('BROKEN').any():\n",
    "                anom_sample = np.append(anom_sample, temp.drop(['timestamp', 'machine_status'], axis=1).to_numpy().reshape(1, flattened_size), axis=0)  \n",
    "                anom_sample_index.append(num)\n",
    "        "
   ]
  },
  {
   "cell_type": "code",
   "execution_count": 8,
   "id": "582f1d8f-a58f-405b-a784-801b7d97e5cf",
   "metadata": {},
   "outputs": [],
   "source": [
    "for idx, i in enumerate(broken_idx):\n",
    "    construct_features_anom(idx, i)"
   ]
  },
  {
   "cell_type": "code",
   "execution_count": null,
   "id": "1ab91d1e-9a5c-4a3e-93cf-15717080ce8c",
   "metadata": {},
   "outputs": [],
   "source": []
  },
  {
   "cell_type": "code",
   "execution_count": 9,
   "id": "65cb5e15-faba-4d09-bb68-3d59d737bb70",
   "metadata": {},
   "outputs": [],
   "source": [
    "with open(cherrypick_test_path, 'ab') as f:\n",
    "    np.savetxt(f, anom_sample, delimiter=',', newline='\\n')"
   ]
  },
  {
   "cell_type": "code",
   "execution_count": null,
   "id": "0c21fe1c-c58e-4378-8157-559a14f1f1dd",
   "metadata": {},
   "outputs": [],
   "source": []
  }
 ],
 "metadata": {
  "kernelspec": {
   "display_name": "Python 3 (ipykernel)",
   "language": "python",
   "name": "python3"
  },
  "language_info": {
   "codemirror_mode": {
    "name": "ipython",
    "version": 3
   },
   "file_extension": ".py",
   "mimetype": "text/x-python",
   "name": "python",
   "nbconvert_exporter": "python",
   "pygments_lexer": "ipython3",
   "version": "3.8.12"
  }
 },
 "nbformat": 4,
 "nbformat_minor": 5
}
