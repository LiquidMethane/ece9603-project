{
 "cells": [
  {
   "cell_type": "code",
   "execution_count": 1,
   "id": "86829d19-d8c6-4007-8247-9e355b97d331",
   "metadata": {},
   "outputs": [],
   "source": [
    "import pandas as pd\n",
    "import numpy as np\n",
    "import torch\n",
    "import torch.nn as nn\n",
    "\n",
    "from tqdm import tqdm\n",
    "from IPython.display import clear_output\n",
    "import matplotlib.pyplot as plt"
   ]
  },
  {
   "cell_type": "code",
   "execution_count": 2,
   "id": "80697f9a-1b4a-4e5c-b7e5-59cec3363f50",
   "metadata": {},
   "outputs": [],
   "source": [
    "data_norm = np.genfromtxt('features_scaled.csv', delimiter=',', dtype=np.float32)"
   ]
  },
  {
   "cell_type": "code",
   "execution_count": 3,
   "id": "1d4769bf-018e-40fb-8226-002dd1b09a71",
   "metadata": {},
   "outputs": [],
   "source": [
    "data_anom = np.genfromtxt('features_anom_scaled.csv', delimiter=',', dtype=np.float32)"
   ]
  },
  {
   "cell_type": "code",
   "execution_count": 4,
   "id": "5a55a97b-ea22-4de1-b2f8-c786a701a142",
   "metadata": {},
   "outputs": [],
   "source": [
    "np.random.shuffle(data_anom)\n",
    "np.random.shuffle(data_norm)"
   ]
  },
  {
   "cell_type": "code",
   "execution_count": 5,
   "id": "ea145d99-cc7d-4d8b-a417-df0f67457373",
   "metadata": {},
   "outputs": [],
   "source": [
    "data_norm_train = data_norm[:120000]\n",
    "data_norm_test = data_norm[120000:148577]\n",
    "\n",
    "data_anom_val = data_anom[:2537]\n",
    "data_anom_test = data_norm[2538:12685]"
   ]
  },
  {
   "cell_type": "code",
   "execution_count": 6,
   "id": "f5def4e8-99dd-4170-af2e-6016db99587f",
   "metadata": {},
   "outputs": [],
   "source": [
    "# with open('./data/norm_train.csv', 'ab') as f:\n",
    "#     np.savetxt(f, data_norm_train, delimiter=',', newline='\\n')\n",
    "    \n",
    "# with open('./data/norm_test.csv', 'ab') as f:\n",
    "#     np.savetxt(f, data_norm_test, delimiter=',', newline='\\n')\n",
    "\n",
    "# with open('./data/anom_val.csv', 'ab') as f:\n",
    "#     np.savetxt(f, data_anom_val, delimiter=',', newline='\\n')\n",
    "    \n",
    "# with open('./data/anom_test.csv', 'ab') as f:\n",
    "#     np.savetxt(f, data_anom_test, delimiter=',', newline='\\n')"
   ]
  },
  {
   "cell_type": "code",
   "execution_count": null,
   "id": "f2aebfe7-5ff2-4dfa-89bf-7f24a7d8f63e",
   "metadata": {},
   "outputs": [],
   "source": []
  },
  {
   "cell_type": "code",
   "execution_count": 30,
   "id": "b799cc1c-29fc-4dd7-9e6c-a5816b0fd6e0",
   "metadata": {},
   "outputs": [],
   "source": [
    "class CAE(nn.Module):\n",
    "    def __init__(self):\n",
    "        super(CAE, self).__init__()\n",
    "        self.encoder = nn.Sequential( # input 37x37x1\n",
    "            \n",
    "            # conv1\n",
    "            nn.Conv2d(in_channels=1, out_channels=16, kernel_size=3, stride=2), # (37-3)/2+1 = 18\n",
    "            nn.BatchNorm2d(num_features=16),\n",
    "            nn.ReLU(),\n",
    "            nn.MaxPool2d(kernel_size=2), # 18/2=9 => output is 9x9x16\n",
    "            \n",
    "            # conv2\n",
    "            nn.Conv2d(in_channels=16, out_channels=32, kernel_size=3, stride=2), # (9-3)/2+1 = 4            \n",
    "            nn.BatchNorm2d(32),\n",
    "            nn.ReLU(),\n",
    "            nn.MaxPool2d(2, 2), # 4/2 = 2 => output is 2x2x32 = 128\n",
    "            \n",
    "        )\n",
    "        \n",
    "        # dense layers\n",
    "        self.dense1 = nn.Linear(128, 64)\n",
    "        self.dense2 = nn.Linear(64, 128)\n",
    "        \n",
    "        self.decoder = nn.Sequential(\n",
    "            \n",
    "            # convt1\n",
    "            nn.Upsample(scale_factor=2, mode='bilinear', align_corners=False),\n",
    "            nn.ConvTranspose2d(in_channels=32, out_channels=16, kernel_size=3, stride=2),\n",
    "            nn.BatchNorm2d(16),\n",
    "            nn.ReLU(),\n",
    "            \n",
    "            # convt2\n",
    "            nn.Upsample(scale_factor=2, mode='bilinear', align_corners=False),\n",
    "            nn.ConvTranspose2d(in_channels=16, out_channels=1, kernel_size=3, stride=2),\n",
    "            nn.BatchNorm2d(1),\n",
    "            nn.ReLU()\n",
    "        \n",
    "        )\n",
    "        \n",
    "    def forward(self, x):\n",
    "        x = self.encoder(x)\n",
    "        x = torch.nn.functional.relu(self.dense1(x.view(x.size(0), -1))) # flatten tensor\n",
    "        x = torch.nn.functional.relu(self.dense2(x))\n",
    "        x = self.decoder(x.view(x.size(0), 32, 2, 2)) # reshape tensor to 32x2x2\n",
    "        return x\n",
    "    \n",
    "#     def forward(self, x):\n",
    "#         return self.decoder(self.encoder(x))"
   ]
  },
  {
   "cell_type": "code",
   "execution_count": null,
   "id": "af6a4983-0350-40e7-bd6a-87cfb6290cac",
   "metadata": {},
   "outputs": [],
   "source": []
  },
  {
   "cell_type": "code",
   "execution_count": 8,
   "id": "e6d3f45a-2131-4db4-ae56-eb052b98d818",
   "metadata": {},
   "outputs": [],
   "source": [
    "def live_plot(train, val, title=''):\n",
    "    clear_output(wait=True)\n",
    "    fig, ax1 = plt.subplots(dpi=120)\n",
    "    ax1.plot(train, label='Training Loss', color='red')\n",
    "    ax1.plot(val, label='Validation Loss', color='blue')\n",
    "    ax1.legend(loc='lower left')\n",
    "    ax1.set_ylabel('Reconstruction MSE Loss')\n",
    "    ax1.set_xlabel('Epoch')\n",
    "    plt.title(title)\n",
    "    plt.show()"
   ]
  },
  {
   "cell_type": "code",
   "execution_count": 31,
   "id": "0147e2a9-b2ab-4459-bf91-ab6355a65259",
   "metadata": {},
   "outputs": [],
   "source": [
    "device = torch.device('cuda' if torch.cuda.is_available() else 'cpu')\n",
    "\n",
    "batch_limit = 512\n",
    "batch_size = 32\n",
    "epoch = 5000\n",
    "cae = CAE().to(device)\n",
    "optimizer = torch.optim.Adam(cae.parameters(), lr=1e-3)\n",
    "criterion = nn.MSELoss()\n",
    "loss_list = []\n",
    "val_list = []"
   ]
  },
  {
   "cell_type": "code",
   "execution_count": 33,
   "id": "50ba5c8a-8c9c-4482-82c4-45031aa21a9f",
   "metadata": {},
   "outputs": [
    {
     "data": {
      "image/png": "[encoded data removed]",
      "text/plain": [
       "<Figure size 720x480 with 1 Axes>"
      ]
     },
     "metadata": {
      "needs_background": "light"
     },
     "output_type": "display_data"
    },
    {
     "name": "stderr",
     "output_type": "stream",
     "text": [
      " 13%|██████▎                                        | 674/5000 [46:20<4:54:07,  4.08s/it]"
     ]
    },
    {
     "name": "stdout",
     "output_type": "stream",
     "text": [
      "Batch loss (129/512): 0.20388357341289524\r"
     ]
    },
    {
     "name": "stderr",
     "output_type": "stream",
     "text": [
      " 13%|██████▎                                        | 674/5000 [46:21<4:57:35,  4.13s/it]\n"
     ]
    },
    {
     "ename": "KeyboardInterrupt",
     "evalue": "",
     "output_type": "error",
     "traceback": [
      "\u001b[1;31m---------------------------------------------------------------------------\u001b[0m",
      "\u001b[1;31mKeyboardInterrupt\u001b[0m                         Traceback (most recent call last)",
      "\u001b[1;32m~\\AppData\\Local\\Temp/ipykernel_32728/1263992443.py\u001b[0m in \u001b[0;36m<module>\u001b[1;34m\u001b[0m\n\u001b[0;32m     10\u001b[0m \u001b[1;33m\u001b[0m\u001b[0m\n\u001b[0;32m     11\u001b[0m         \u001b[0mloss\u001b[0m \u001b[1;33m=\u001b[0m \u001b[0mcriterion\u001b[0m\u001b[1;33m(\u001b[0m\u001b[0mrecon_tensor\u001b[0m\u001b[1;33m,\u001b[0m \u001b[0mtrain_tensor\u001b[0m\u001b[1;33m)\u001b[0m\u001b[1;33m\u001b[0m\u001b[1;33m\u001b[0m\u001b[0m\n\u001b[1;32m---> 12\u001b[1;33m         \u001b[0mloss\u001b[0m\u001b[1;33m.\u001b[0m\u001b[0mbackward\u001b[0m\u001b[1;33m(\u001b[0m\u001b[1;33m)\u001b[0m\u001b[1;33m\u001b[0m\u001b[1;33m\u001b[0m\u001b[0m\n\u001b[0m\u001b[0;32m     13\u001b[0m         \u001b[0moptimizer\u001b[0m\u001b[1;33m.\u001b[0m\u001b[0mstep\u001b[0m\u001b[1;33m(\u001b[0m\u001b[1;33m)\u001b[0m\u001b[1;33m\u001b[0m\u001b[1;33m\u001b[0m\u001b[0m\n\u001b[0;32m     14\u001b[0m         \u001b[0mepoch_loss\u001b[0m \u001b[1;33m+=\u001b[0m \u001b[0mloss\u001b[0m\u001b[1;33m.\u001b[0m\u001b[0mitem\u001b[0m\u001b[1;33m(\u001b[0m\u001b[1;33m)\u001b[0m\u001b[1;33m\u001b[0m\u001b[1;33m\u001b[0m\u001b[0m\n",
      "\u001b[1;32mC:\\ProgramData\\Anaconda3\\lib\\site-packages\\torch\\tensor.py\u001b[0m in \u001b[0;36mbackward\u001b[1;34m(self, gradient, retain_graph, create_graph)\u001b[0m\n\u001b[0;32m    219\u001b[0m                 \u001b[0mretain_graph\u001b[0m\u001b[1;33m=\u001b[0m\u001b[0mretain_graph\u001b[0m\u001b[1;33m,\u001b[0m\u001b[1;33m\u001b[0m\u001b[1;33m\u001b[0m\u001b[0m\n\u001b[0;32m    220\u001b[0m                 create_graph=create_graph)\n\u001b[1;32m--> 221\u001b[1;33m         \u001b[0mtorch\u001b[0m\u001b[1;33m.\u001b[0m\u001b[0mautograd\u001b[0m\u001b[1;33m.\u001b[0m\u001b[0mbackward\u001b[0m\u001b[1;33m(\u001b[0m\u001b[0mself\u001b[0m\u001b[1;33m,\u001b[0m \u001b[0mgradient\u001b[0m\u001b[1;33m,\u001b[0m \u001b[0mretain_graph\u001b[0m\u001b[1;33m,\u001b[0m \u001b[0mcreate_graph\u001b[0m\u001b[1;33m)\u001b[0m\u001b[1;33m\u001b[0m\u001b[1;33m\u001b[0m\u001b[0m\n\u001b[0m\u001b[0;32m    222\u001b[0m \u001b[1;33m\u001b[0m\u001b[0m\n\u001b[0;32m    223\u001b[0m     \u001b[1;32mdef\u001b[0m \u001b[0mregister_hook\u001b[0m\u001b[1;33m(\u001b[0m\u001b[0mself\u001b[0m\u001b[1;33m,\u001b[0m \u001b[0mhook\u001b[0m\u001b[1;33m)\u001b[0m\u001b[1;33m:\u001b[0m\u001b[1;33m\u001b[0m\u001b[1;33m\u001b[0m\u001b[0m\n",
      "\u001b[1;32mC:\\ProgramData\\Anaconda3\\lib\\site-packages\\torch\\autograd\\__init__.py\u001b[0m in \u001b[0;36mbackward\u001b[1;34m(tensors, grad_tensors, retain_graph, create_graph, grad_variables)\u001b[0m\n\u001b[0;32m    128\u001b[0m         \u001b[0mretain_graph\u001b[0m \u001b[1;33m=\u001b[0m \u001b[0mcreate_graph\u001b[0m\u001b[1;33m\u001b[0m\u001b[1;33m\u001b[0m\u001b[0m\n\u001b[0;32m    129\u001b[0m \u001b[1;33m\u001b[0m\u001b[0m\n\u001b[1;32m--> 130\u001b[1;33m     Variable._execution_engine.run_backward(\n\u001b[0m\u001b[0;32m    131\u001b[0m         \u001b[0mtensors\u001b[0m\u001b[1;33m,\u001b[0m \u001b[0mgrad_tensors_\u001b[0m\u001b[1;33m,\u001b[0m \u001b[0mretain_graph\u001b[0m\u001b[1;33m,\u001b[0m \u001b[0mcreate_graph\u001b[0m\u001b[1;33m,\u001b[0m\u001b[1;33m\u001b[0m\u001b[1;33m\u001b[0m\u001b[0m\n\u001b[0;32m    132\u001b[0m         allow_unreachable=True)  # allow_unreachable flag\n",
      "\u001b[1;31mKeyboardInterrupt\u001b[0m: "
     ]
    }
   ],
   "source": [
    "for e in tqdm(range(epoch)):\n",
    "    epoch_loss = 0\n",
    "\n",
    "    for idx in range(batch_limit):\n",
    "        optimizer.zero_grad()\n",
    "        \n",
    "        indices = np.random.randint(low=0, high=120000, size=batch_size)\n",
    "        train_tensor = torch.from_numpy(np.array([data_norm_train[i] for i in indices]).reshape(batch_size, 1, 37, 37)).to(device)\n",
    "        recon_tensor = cae(train_tensor)\n",
    "        \n",
    "        loss = criterion(recon_tensor, train_tensor)\n",
    "        loss.backward()\n",
    "        optimizer.step()\n",
    "        epoch_loss += loss.item()\n",
    "        print(f\"Batch loss ({idx+1}/{batch_limit}): {loss.item()}\", end='\\r')\n",
    "        \n",
    "    with torch.no_grad():\n",
    "#         indices = np.random.randint(low=0, high=28577, size=batch_size)\n",
    "#         val_tensor = torch.from_numpy(np.array([data_norm_test[i] for i in indices]).reshape(batch_size, 1, 37, 37)).to(device)\n",
    "#         val_recon_tensor = cae.forward(val_tensor)\n",
    "        \n",
    "        loss_list.append(epoch_loss/batch_limit)\n",
    "#         val_list.append(nn.MSELoss()(val_recon_tensor, val_tensor).item())\n",
    "        \n",
    "        clear_output(wait=True)\n",
    "        fig, ax1 = plt.subplots(dpi=120)\n",
    "        ax1.plot(np.array(loss_list), label='Normal Window Loss', color='red')\n",
    "#         ax1.plot(np.array(val_list), label='Anom Window Loss', color='blue')\n",
    "        ax1.legend(loc='upper right')\n",
    "        ax1.set_ylabel('Reconstruction MSE Loss')\n",
    "        ax1.set_xlabel('Epoch')\n",
    "        plt.show()"
   ]
  },
  {
   "cell_type": "code",
   "execution_count": 11,
   "id": "d4417521-1473-440a-b7f9-210414e5697d",
   "metadata": {},
   "outputs": [],
   "source": [
    "# torch.save(cae.state_dict(), 'cae.pt')"
   ]
  },
  {
   "cell_type": "code",
   "execution_count": 12,
   "id": "168b6318-3209-4db5-99c2-a3b025717661",
   "metadata": {},
   "outputs": [],
   "source": [
    "# torch.save(cae.state_dict(), 'cae-5000.pt')"
   ]
  },
  {
   "cell_type": "code",
   "execution_count": 35,
   "id": "ee61e3dc-b575-47e8-8c85-4d5b27d35008",
   "metadata": {},
   "outputs": [],
   "source": [
    "torch.save(cae.state_dict(), 'cae-92.pt')"
   ]
  },
  {
   "cell_type": "code",
   "execution_count": null,
   "id": "779b13f6-0d3c-4139-bb12-9604311316a5",
   "metadata": {},
   "outputs": [],
   "source": []
  }
 ],
 "metadata": {
  "kernelspec": {
   "display_name": "Python 3 (ipykernel)",
   "language": "python",
   "name": "python3"
  },
  "language_info": {
   "codemirror_mode": {
    "name": "ipython",
    "version": 3
   },
   "file_extension": ".py",
   "mimetype": "text/x-python",
   "name": "python",
   "nbconvert_exporter": "python",
   "pygments_lexer": "ipython3",
   "version": "3.8.12"
  }
 },
 "nbformat": 4,
 "nbformat_minor": 5
}
